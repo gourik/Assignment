{
 "cells": [
  {
   "cell_type": "code",
   "execution_count": null,
   "id": "f9a8f6fb",
   "metadata": {},
   "outputs": [],
   "source": [
    "1.What is the primary goal of Object Oriented Programming?"
   ]
  },
  {
   "cell_type": "code",
   "execution_count": null,
   "id": "3c23c4ef",
   "metadata": {},
   "outputs": [],
   "source": [
    "The goal of Object Oriented programming(OOP) is to bind together data and functions that implements on them so that no other \n",
    "part of the program access the code except that function.\n",
    "OOP makes it easy to understand how program works by binding together data and its behavior together called object.OOP aims\n",
    "to implement real world entities such as inheritance, polymorphism and encapsulation."
   ]
  },
  {
   "cell_type": "code",
   "execution_count": null,
   "id": "67a62daf",
   "metadata": {},
   "outputs": [],
   "source": [
    "2.What is an object in Python?"
   ]
  },
  {
   "cell_type": "code",
   "execution_count": null,
   "id": "3d817b82",
   "metadata": {},
   "outputs": [],
   "source": [
    "Objects are the instances of a particular class. In Python every element is object of some particular class. This object can be \n",
    "of any type say string or integer or list or dictionary so on."
   ]
  },
  {
   "cell_type": "code",
   "execution_count": null,
   "id": "73e49274",
   "metadata": {},
   "outputs": [],
   "source": [
    "3.What is a class in python?"
   ]
  },
  {
   "cell_type": "code",
   "execution_count": null,
   "id": "354cfb6b",
   "metadata": {},
   "outputs": [],
   "source": [
    "A Class in Python is like blueprint of an object, which is a user defined data structure containing data members and member \n",
    "functions, which are accessed by creating instance of the class."
   ]
  },
  {
   "cell_type": "code",
   "execution_count": null,
   "id": "bfdd9cec",
   "metadata": {},
   "outputs": [],
   "source": [
    "4.What are the attributes and methods in class?"
   ]
  },
  {
   "cell_type": "code",
   "execution_count": null,
   "id": "3ff97dfd",
   "metadata": {},
   "outputs": [],
   "source": [
    "Any variable defined within a class is called attribute and any function bound within a class is called method. Method will \n",
    "recieve an instance of the class, which is conventionally called self, as the first arguement."
   ]
  },
  {
   "cell_type": "code",
   "execution_count": null,
   "id": "d3957f9b",
   "metadata": {},
   "outputs": [],
   "source": [
    "5. What is the difference between class variables and instance variables?"
   ]
  },
  {
   "cell_type": "code",
   "execution_count": null,
   "id": "f617a39b",
   "metadata": {},
   "outputs": [],
   "source": [
    "Class Variable:\n",
    "Class variables are defined within the class, but outside class methods.\n",
    "Changes made to class variables affect all the class instances.\n",
    "Instance variables:\n",
    "Instance variables are defined within the class methods, called the constructor.\n",
    "Changes made to an instance variable will not affect all the instance variables. "
   ]
  },
  {
   "cell_type": "code",
   "execution_count": null,
   "id": "04832de1",
   "metadata": {},
   "outputs": [],
   "source": [
    "6.what is the purpose of the self parameter in python class methods?"
   ]
  },
  {
   "cell_type": "code",
   "execution_count": null,
   "id": "846be0c1",
   "metadata": {},
   "outputs": [],
   "source": [
    "Self parameter is reference to current instance of the class and it is used to access data members of the class."
   ]
  },
  {
   "cell_type": "code",
   "execution_count": null,
   "id": "a470d4bb",
   "metadata": {},
   "outputs": [],
   "source": [
    "7. For a library management system, you have to design the \"Book\" class with OOP principles in mind. The “Book” class will have following attributes:\n",
    "a. title: Represents the title of the book.\n",
    "b. author: Represents the author(s) of the book.\n",
    "c. isbn: Represents the ISBN (International Standard Book Number) of the book.\n",
    "d. publication_year: Represents the year of publication of the book.\n",
    "e. available_copies: Represents the number of copies available for checkout.\n",
    "    The class will also include the following methods:\n",
    "a. check_out(self): Decrements the available copies by one if there are copies\n",
    "available for checkout.\n",
    "b. return_book(self): Increments the available copies by one when a book is\n",
    "returned.\n",
    "c. display_book_info(self): Displays the information about the book, including its\n",
    "attributes and the number of available copies."
   ]
  },
  {
   "cell_type": "code",
   "execution_count": 16,
   "id": "6f936aca",
   "metadata": {},
   "outputs": [
    {
     "name": "stdout",
     "output_type": "stream",
     "text": [
      "available copies are:89\n",
      "Available copies are:90\n",
      "The book is Bhagvadgeetha,its author: Gouri,ISBN:IND17272,Publication Year:1993 and available copies:90\n"
     ]
    }
   ],
   "source": [
    "class Book:\n",
    "    def __init__(self,title,author,isbn,publ_year,avail_copies):\n",
    "        self.title=title\n",
    "        self.author=author\n",
    "        self.isbn=isbn\n",
    "        self.publ_year=publ_year\n",
    "        self.avail_copies=avail_copies\n",
    "    def check_out(self):\n",
    "        if self.avail_copies>0:\n",
    "            self.avail_copies-=1\n",
    "            print(f\"available copies are:{self.avail_copies}\")\n",
    "    def return_book(self):\n",
    "        self.avail_copies+=1\n",
    "        print(f\"Available copies are:{self.avail_copies}\")\n",
    "    def display_book_info(self):\n",
    "        print(f\"The book is {self.title},its author: {self.author},ISBN:{self.isbn},Publication Year:{self.publ_year} and available copies:{self.avail_copies}\")\n",
    "\n",
    "book1=Book(\"Bhagvadgeetha\",\"Gouri\",\"IND17272\",1993,90) \n",
    "book1.check_out()\n",
    "book1.return_book()\n",
    "book1.display_book_info()"
   ]
  },
  {
   "cell_type": "code",
   "execution_count": null,
   "id": "7c298af6",
   "metadata": {},
   "outputs": [],
   "source": [
    "8. For a ticket booking system, you have to design the \"Ticket\" class with OOP\n",
    "principles in mind. The “Ticket” class should have the following attributes:\n",
    "a. ticket_id: Represents the unique identifier for the ticket.\n",
    "b. event_name: Represents the name of the event.\n",
    "c. event_date: Represents the date of the event.\n",
    "d. venue: Represents the venue of the event.\n",
    "e. seat_number: Represents the seat number associated with the ticket.\n",
    "f. price: Represents the price of the ticket.\n",
    "g. is_reserved: Represents the reservation status of the ticket.\n",
    "The class also includes the following methods:\n",
    "a. reserve_ticket(self): Marks the ticket as reserved if it is not already reserved.\n",
    "b. cancel_reservation(self): Cancels the reservation of the ticket if it is already\n",
    "reserved.\n",
    "c. display_ticket_info(self): Displays the information about the ticket, including its\n",
    "attributes and reservation status."
   ]
  },
  {
   "cell_type": "code",
   "execution_count": 31,
   "id": "d167d915",
   "metadata": {},
   "outputs": [
    {
     "name": "stdout",
     "output_type": "stream",
     "text": [
      "The ticketT1 is reserved\n",
      "the ticket T1 is cancelled\n",
      "The Ticket T1 for the eventWorld Cup Match on 19_July atCricket Stadium seat numberA1 with price1000Rs is reserved:0\n"
     ]
    }
   ],
   "source": [
    "class Ticket:\n",
    "    def __init__(self,ticket_id,event_name,event_date,venue,seat_number,price,is_reserved):\n",
    "        self.ticket_id=ticket_id\n",
    "        self.event_name=event_name\n",
    "        self.event_date=event_date\n",
    "        self.venue=venue\n",
    "        self.seat_number=seat_number\n",
    "        self.price=price\n",
    "        self.is_reserved=is_reserved #0:if not reserved, 1:if reserved\n",
    "    def reserve_ticket(self):\n",
    "        if self.is_reserved ==0 :\n",
    "            self.is_reserved=1\n",
    "        print(f\"The ticket{self.ticket_id} is reserved\")\n",
    "    def cancel_reservation(self):\n",
    "        if self.is_reserved==1:\n",
    "            self.is_reserved=0\n",
    "        print(f\"the ticket {self.ticket_id} is cancelled\")\n",
    "    def display_ticket_info(self):\n",
    "        print(f\"The Ticket {self.ticket_id} for the event{self.event_name} on {self.event_date} at{self.venue} seat number{self.seat_number} with price{self.price} is reserved:{self.is_reserved}\")\n",
    "t1=Ticket(\"T1\",\"World Cup Match\",\"19_July\",\"Cricket Stadium\",\"A1\",\"1000Rs\",1)  \n",
    "\n",
    "\n"
   ]
  },
  {
   "cell_type": "code",
   "execution_count": 32,
   "id": "4841f692",
   "metadata": {},
   "outputs": [
    {
     "name": "stdout",
     "output_type": "stream",
     "text": [
      "The ticketT1 is reserved\n"
     ]
    }
   ],
   "source": [
    "t1.reserve_ticket()"
   ]
  },
  {
   "cell_type": "code",
   "execution_count": null,
   "id": "2c9ca0ac",
   "metadata": {},
   "outputs": [],
   "source": [
    "t1.display_ticket_info()"
   ]
  },
  {
   "cell_type": "code",
   "execution_count": 34,
   "id": "15637c4f",
   "metadata": {},
   "outputs": [
    {
     "name": "stdout",
     "output_type": "stream",
     "text": [
      "the ticket T1 is cancelled\n"
     ]
    }
   ],
   "source": [
    "t1.cancel_reservation()"
   ]
  },
  {
   "cell_type": "code",
   "execution_count": 33,
   "id": "ddad1ef4",
   "metadata": {},
   "outputs": [
    {
     "name": "stdout",
     "output_type": "stream",
     "text": [
      "The Ticket T1 for the eventWorld Cup Match on 19_July atCricket Stadium seat numberA1 with price1000Rs is reserved:1\n"
     ]
    }
   ],
   "source": [
    "t1.display_ticket_info()"
   ]
  },
  {
   "cell_type": "code",
   "execution_count": null,
   "id": "349921b5",
   "metadata": {},
   "outputs": [],
   "source": [
    "9. You are creating a shopping cart for an e-commerce website. Using OOP to model\n",
    "the \"ShoppingCart\" functionality the class should contain following attributes and\n",
    "methods:\n",
    "a. items: Represents the list of items in the shopping cart.\n",
    "The class also includes the following methods:\n",
    "\n",
    "a. add_item(self, item): Adds an item to the shopping cart by appending it to the\n",
    "list of items.\n",
    "b. remove_item(self, item): Removes an item from the shopping cart if it exists in\n",
    "the list.\n",
    "c. view_cart(self): Displays the items currently present in the shopping cart.\n",
    "d. clear_cart(self): Clears all items from the shopping cart by reassigning an empty list to the items attribute."
   ]
  },
  {
   "cell_type": "code",
   "execution_count": 55,
   "id": "7b0f9a45",
   "metadata": {},
   "outputs": [
    {
     "ename": "TypeError",
     "evalue": "'list' object cannot be interpreted as an integer",
     "output_type": "error",
     "traceback": [
      "\u001b[1;31m---------------------------------------------------------------------------\u001b[0m",
      "\u001b[1;31mTypeError\u001b[0m                                 Traceback (most recent call last)",
      "\u001b[1;32m~\\AppData\\Local\\Temp\\ipykernel_540\\2930683745.py\u001b[0m in \u001b[0;36m<module>\u001b[1;34m\u001b[0m\n\u001b[0;32m     15\u001b[0m \u001b[0msp\u001b[0m\u001b[1;33m=\u001b[0m\u001b[0mShoppingCart\u001b[0m\u001b[1;33m(\u001b[0m\u001b[0mitems\u001b[0m\u001b[1;33m)\u001b[0m\u001b[1;33m\u001b[0m\u001b[1;33m\u001b[0m\u001b[0m\n\u001b[0;32m     16\u001b[0m \u001b[0msp\u001b[0m\u001b[1;33m.\u001b[0m\u001b[0madd_item\u001b[0m\u001b[1;33m(\u001b[0m\u001b[1;34m\"Chocolate\"\u001b[0m\u001b[1;33m)\u001b[0m\u001b[1;33m\u001b[0m\u001b[1;33m\u001b[0m\u001b[0m\n\u001b[1;32m---> 17\u001b[1;33m \u001b[0msp\u001b[0m\u001b[1;33m.\u001b[0m\u001b[0mview_cart\u001b[0m\u001b[1;33m(\u001b[0m\u001b[1;33m)\u001b[0m\u001b[1;33m\u001b[0m\u001b[1;33m\u001b[0m\u001b[0m\n\u001b[0m\u001b[0;32m     18\u001b[0m \u001b[0msp\u001b[0m\u001b[1;33m.\u001b[0m\u001b[0mremove_item\u001b[0m\u001b[1;33m(\u001b[0m\u001b[1;34m\"Bread\"\u001b[0m\u001b[1;33m)\u001b[0m\u001b[1;33m\u001b[0m\u001b[1;33m\u001b[0m\u001b[0m\n\u001b[0;32m     19\u001b[0m \u001b[0msp\u001b[0m\u001b[1;33m.\u001b[0m\u001b[0mclear_cart\u001b[0m\u001b[1;33m(\u001b[0m\u001b[1;33m)\u001b[0m\u001b[1;33m\u001b[0m\u001b[1;33m\u001b[0m\u001b[0m\n",
      "\u001b[1;32m~\\AppData\\Local\\Temp\\ipykernel_540\\2930683745.py\u001b[0m in \u001b[0;36mview_cart\u001b[1;34m(self)\u001b[0m\n\u001b[0;32m      8\u001b[0m             \u001b[0mself\u001b[0m\u001b[1;33m.\u001b[0m\u001b[0mitems\u001b[0m\u001b[1;33m.\u001b[0m\u001b[0mremove\u001b[0m\u001b[1;33m(\u001b[0m\u001b[0mitem\u001b[0m\u001b[1;33m)\u001b[0m\u001b[1;33m\u001b[0m\u001b[1;33m\u001b[0m\u001b[0m\n\u001b[0;32m      9\u001b[0m     \u001b[1;32mdef\u001b[0m \u001b[0mview_cart\u001b[0m\u001b[1;33m(\u001b[0m\u001b[0mself\u001b[0m\u001b[1;33m)\u001b[0m\u001b[1;33m:\u001b[0m\u001b[1;33m\u001b[0m\u001b[1;33m\u001b[0m\u001b[0m\n\u001b[1;32m---> 10\u001b[1;33m         \u001b[1;32mfor\u001b[0m \u001b[0mi\u001b[0m \u001b[1;32min\u001b[0m \u001b[0mrange\u001b[0m\u001b[1;33m(\u001b[0m\u001b[0mself\u001b[0m\u001b[1;33m.\u001b[0m\u001b[0mitems\u001b[0m\u001b[1;33m)\u001b[0m\u001b[1;33m:\u001b[0m\u001b[1;33m\u001b[0m\u001b[1;33m\u001b[0m\u001b[0m\n\u001b[0m\u001b[0;32m     11\u001b[0m             \u001b[0mprint\u001b[0m\u001b[1;33m(\u001b[0m\u001b[1;34mf\"{self.items[i]}\\n\"\u001b[0m\u001b[1;33m)\u001b[0m\u001b[1;33m\u001b[0m\u001b[1;33m\u001b[0m\u001b[0m\n\u001b[0;32m     12\u001b[0m     \u001b[1;32mdef\u001b[0m \u001b[0mclear_cart\u001b[0m\u001b[1;33m(\u001b[0m\u001b[0mself\u001b[0m\u001b[1;33m)\u001b[0m\u001b[1;33m:\u001b[0m\u001b[1;33m\u001b[0m\u001b[1;33m\u001b[0m\u001b[0m\n",
      "\u001b[1;31mTypeError\u001b[0m: 'list' object cannot be interpreted as an integer"
     ]
    }
   ],
   "source": [
    "class ShoppingCart:\n",
    "    def __init__(self,items):\n",
    "        self.items=items\n",
    "    def add_item(self,item):\n",
    "        self.items.append(item)\n",
    "    def remove_item(self,item):\n",
    "        if item in self.items:\n",
    "            self.items.remove(item)\n",
    "    def view_cart(self):\n",
    "        for i in range(self.items):\n",
    "            print(f\"{self.items[i]}\\n\")\n",
    "    def clear_cart(self):\n",
    "        self.items.clear()\n",
    "items=[\"Fruits\",\"Vegetables\",\"Milk\",\"Bread\"]\n",
    "sp=ShoppingCart(items)\n",
    "sp.add_item(\"Chocolate\")\n",
    "sp.view_cart()\n",
    "sp.remove_item(\"Bread\")\n",
    "sp.clear_cart()"
   ]
  },
  {
   "cell_type": "code",
   "execution_count": null,
   "id": "31fb40a2",
   "metadata": {},
   "outputs": [],
   "source": [
    "10. Imagine a school management system. You have to design the \"Student\" class using\n",
    "OOP concepts.The “Student” class has the following attributes:\n",
    "a. name: Represents the name of the student.\n",
    "b. age: Represents the age of the student.\n",
    "c. grade: Represents the grade or class of the student.\n",
    "d. student_id: Represents the unique identifier for the student.\n",
    "e. attendance: Represents the attendance record of the student.\n",
    "The class should also include the following methods:\n",
    "a. update_attendance(self, date, status): Updates the attendance record of the\n",
    "student for a given date with the provided status (e.g., present or absent).\n",
    "b. get_attendance(self): Returns the attendance record of the student.\n",
    "c. get_average_attendance(self): Calculates and returns the average\n",
    "attendance percentage of the student based on their attendance record."
   ]
  },
  {
   "cell_type": "code",
   "execution_count": 69,
   "id": "20069680",
   "metadata": {},
   "outputs": [],
   "source": [
    "class Student:\n",
    "    def __init__(self,name,age,grade,student_id,attendance):\n",
    "        self.name=name\n",
    "        self.age=age\n",
    "        self.grade=grade\n",
    "        self.student_id=student_id\n",
    "        self.attendance=attendance #(getting attendance for a month)\n",
    "    def update_attendance(self,date,status):\n",
    "        self.date=date\n",
    "        self.status=status\n",
    "        print(f\"Attendance of the student for the given date:{self.date} is:{self.status}\")\n",
    "    def get_attendance(self):\n",
    "        return self.attendance\n",
    "    def get_average_attendance(self):\n",
    "        return (self.attendance/20)*100\n",
    "\n",
    "student=Student(\"ABC\",12,6,\"S12\",20)\n"
   ]
  },
  {
   "cell_type": "code",
   "execution_count": 62,
   "id": "3e9930d8",
   "metadata": {},
   "outputs": [
    {
     "name": "stdout",
     "output_type": "stream",
     "text": [
      "Attendance of the student for the given date:01_July is:Present\n"
     ]
    }
   ],
   "source": [
    "student.update_attendance(\"01_July\",\"Present\")"
   ]
  },
  {
   "cell_type": "code",
   "execution_count": 63,
   "id": "09f127c2",
   "metadata": {},
   "outputs": [
    {
     "data": {
      "text/plain": [
       "20"
      ]
     },
     "execution_count": 63,
     "metadata": {},
     "output_type": "execute_result"
    }
   ],
   "source": [
    "student.get_attendance()"
   ]
  },
  {
   "cell_type": "code",
   "execution_count": 70,
   "id": "0aa02f3d",
   "metadata": {},
   "outputs": [
    {
     "data": {
      "text/plain": [
       "100.0"
      ]
     },
     "execution_count": 70,
     "metadata": {},
     "output_type": "execute_result"
    }
   ],
   "source": [
    "student.get_average_attendance()"
   ]
  },
  {
   "cell_type": "code",
   "execution_count": null,
   "id": "fdf7c8ee",
   "metadata": {},
   "outputs": [],
   "source": []
  }
 ],
 "metadata": {
  "kernelspec": {
   "display_name": "Python 3 (ipykernel)",
   "language": "python",
   "name": "python3"
  },
  "language_info": {
   "codemirror_mode": {
    "name": "ipython",
    "version": 3
   },
   "file_extension": ".py",
   "mimetype": "text/x-python",
   "name": "python",
   "nbconvert_exporter": "python",
   "pygments_lexer": "ipython3",
   "version": "3.9.13"
  }
 },
 "nbformat": 4,
 "nbformat_minor": 5
}
