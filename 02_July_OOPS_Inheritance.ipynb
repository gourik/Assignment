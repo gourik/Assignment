{
 "cells": [
  {
   "cell_type": "code",
   "execution_count": null,
   "id": "1aa7cf25",
   "metadata": {},
   "outputs": [],
   "source": [
    "1.Explain what inheritance is in object-oriented programming and why it is used."
   ]
  },
  {
   "cell_type": "code",
   "execution_count": null,
   "id": "eaf9e18b",
   "metadata": {},
   "outputs": [],
   "source": [
    "Inheritance is the core features of the Object-Oriented Programming, which allows reuse of the code by referencing behaviors of object \n",
    "and data of an object.A class inherits from another class the attributes and methods.\n",
    "Inherited class is called child or sub class and the class being inherited is called parent class or Super class."
   ]
  },
  {
   "cell_type": "code",
   "execution_count": null,
   "id": "7af432bc",
   "metadata": {},
   "outputs": [],
   "source": [
    "2.Discuss the concept of single inheritance and multiple inheritance, highlighting their differences and advantages."
   ]
  },
  {
   "cell_type": "code",
   "execution_count": null,
   "id": "ef4d2a47",
   "metadata": {},
   "outputs": [],
   "source": [
    "Single Inheritance:\n",
    "It allows derived class to inherit from only one parent class and hence allowing code reusability and addition of new features in \n",
    "existing code.\n",
    "\n",
    "Multiple Inheritance:\n",
    "If a class inherits from more than one parent class, its called multiple inheritance.\n",
    "It enables a class to derive the functionality of more than one base class;hence modeling of complex relations is possible.\n",
    "Having multiple superclasses, subclass can reuse the more number of inherited attributes and operations of the superclasses."
   ]
  },
  {
   "cell_type": "code",
   "execution_count": null,
   "id": "ded7d93b",
   "metadata": {},
   "outputs": [],
   "source": [
    "3.Explain the terms \"base class\" and \"derived class\" in the context of inheritance.\n",
    "The class whose members are inherited is called Base class.\n",
    "The class that inherits from other class is called Derived Class."
   ]
  },
  {
   "cell_type": "code",
   "execution_count": null,
   "id": "eda7eebb",
   "metadata": {},
   "outputs": [],
   "source": [
    "4.What is the significance of the \"protected\" access modifier in inheritance? How does it differ from \"private\" and \"public\" modifiers?"
   ]
  },
  {
   "cell_type": "code",
   "execution_count": null,
   "id": "1a2fe22a",
   "metadata": {},
   "outputs": [],
   "source": [
    "\"Protected\" access modifiers are used when data members and member functions need to be accessed from inside the class or from within the class which \n",
    "inherits from it.\n",
    "Private access modifiers are used when data memebrs and functions need to be accessed only within the class in which they \n",
    "are defined.\n",
    "Public access modifiers are used when data memebrs and functions will be accessed from within class in which they are \n",
    "defined and also outside the class and any other part of the program."
   ]
  },
  {
   "cell_type": "code",
   "execution_count": null,
   "id": "6c08a8a2",
   "metadata": {},
   "outputs": [],
   "source": [
    "5.What is the purpose of the \"super\" keyword in inheritance? Provide an example."
   ]
  },
  {
   "cell_type": "code",
   "execution_count": null,
   "id": "7032c17a",
   "metadata": {},
   "outputs": [],
   "source": [
    "super() is used to access the methods and properties of parent class.\n",
    "Example:"
   ]
  },
  {
   "cell_type": "code",
   "execution_count": 14,
   "id": "4534adc8",
   "metadata": {},
   "outputs": [],
   "source": [
    "class Book:\n",
    "    def __init__(self,title):\n",
    "        self.title=title\n",
    "class Biography(Book):\n",
    "    def __init__(self,title,author):\n",
    "        super().__init__(title)\n",
    "        self.author=author"
   ]
  },
  {
   "cell_type": "code",
   "execution_count": null,
   "id": "1009e31c",
   "metadata": {},
   "outputs": [],
   "source": [
    "6.Create a base class called \"Vehicle\" with attributes like \"make\", \"model\", and \"year\".Then, create a derived class called\n",
    "\"Car\" that inherits from \"Vehicle\" and adds an attribute called \"fuel_type\". Implement appropriate methods in both classes."
   ]
  },
  {
   "cell_type": "code",
   "execution_count": 12,
   "id": "003bff06",
   "metadata": {},
   "outputs": [
    {
     "name": "stdout",
     "output_type": "stream",
     "text": [
      "The Audi EV Diesel Car is ready to go\n",
      "The Vehicle Audi is ready to go\n"
     ]
    }
   ],
   "source": [
    "class Vehicle:\n",
    "    def __init__(self,make,model,year):\n",
    "        self.make=make\n",
    "        self.model=model\n",
    "        self.year=year\n",
    "    def display_info(self):\n",
    "        print(f\"The Vehicle {self.make} is ready to go\")\n",
    "        \n",
    "class Car(Vehicle):\n",
    "    def __init__(self,make,model,year,fuel_type):\n",
    "        super().__init__(make,model,year)\n",
    "        self.fuel_type=fuel_type\n",
    "    def display(self):\n",
    "        print(f\"The {self.make} {self.model} {self.fuel_type} Car is ready to go\")\n",
    "car=Car(\"Audi\",\"EV\",2024,\"Diesel\")\n",
    "car.display()\n",
    "car.display_info()"
   ]
  },
  {
   "cell_type": "code",
   "execution_count": null,
   "id": "3b4c658a",
   "metadata": {},
   "outputs": [],
   "source": [
    "7. Create a base class called \"Employee\" with attributes like \"name\" and \"salary.\"\n",
    "Derive two classes, \"Manager\" and \"Developer,\" from \"Employee.\" Add an additional\n",
    "attribute called \"department\" for the \"Manager\" class and \"programming_language\"\n",
    "for the \"Developer\" class."
   ]
  },
  {
   "cell_type": "code",
   "execution_count": 15,
   "id": "57a7441b",
   "metadata": {},
   "outputs": [],
   "source": [
    "class Employee:\n",
    "    def __init__(self,name,salary):\n",
    "        self.name=name\n",
    "        self.salary=salary\n",
    "    \n",
    "class Manager(Employee):\n",
    "    def __init__(self,name,salary,department):\n",
    "        super().__init__(name,salary)\n",
    "        self.department=department\n",
    "class Developer(Employee):\n",
    "    def __init__(self,name,salary,programming_language):\n",
    "        super().__init__(name,salary)\n",
    "        self.programming_language=programming_language\n"
   ]
  },
  {
   "cell_type": "code",
   "execution_count": null,
   "id": "740dc6d9",
   "metadata": {},
   "outputs": [],
   "source": [
    "8. Design a base class called \"Shape\" with attributes like \"colour\" and \"border_width.\"\n",
    "Create derived classes, \"Rectangle\" and \"Circle,\" that inherit from \"Shape\" and add\n",
    "specific attributes like \"length\" and \"width\" for the \"Rectangle\" class and \"radius\" for\n",
    "the \"Circle\" class."
   ]
  },
  {
   "cell_type": "code",
   "execution_count": 16,
   "id": "a4d4d8f3",
   "metadata": {},
   "outputs": [],
   "source": [
    "class Shape:\n",
    "    def __init__(self,colour,border_width):\n",
    "        self.colour=colour\n",
    "        self.border_width=border_width\n",
    "class Rectangle(Shape):\n",
    "    def __init__(self,colour,border_width,length,width):\n",
    "        super().__init__(colour,border_width)\n",
    "        self.length=length\n",
    "        self.width=width\n",
    "class Circle(Shape):\n",
    "    def __init__(self,colour,border_width,radius):\n",
    "        super().__init__(colour,border_width)\n",
    "        self.radius=radius\n",
    "        "
   ]
  },
  {
   "cell_type": "code",
   "execution_count": null,
   "id": "35341b5e",
   "metadata": {},
   "outputs": [],
   "source": [
    "9. Create a base class called \"Device\" with attributes like \"brand\" and \"model.\" Derive two classes, \"Phone\" and \"Tablet,\" \n",
    "from \"Device.\" Add specific attributes like \"screen_size\" for the \"Phone\" class and \"battery_capacity\" for the \"Tablet\" \n",
    "class."
   ]
  },
  {
   "cell_type": "code",
   "execution_count": 17,
   "id": "1cc82088",
   "metadata": {},
   "outputs": [],
   "source": [
    "class Device:\n",
    "    def __init__(self,brand,model):\n",
    "        self.brand=brand\n",
    "        self.model=model\n",
    "class Phone(Device):\n",
    "    def __init__(self,brand,model,screen_size):\n",
    "        super().__init__(brand,model)\n",
    "        self.screen_size=screen_size\n",
    "class Tablet(Device):\n",
    "    def __init__(self,brand,model,battery_capacity):\n",
    "        super().__init__(brand,model)\n",
    "        self.battery_capacity=battery_capacity\n"
   ]
  },
  {
   "cell_type": "code",
   "execution_count": null,
   "id": "a8409fcd",
   "metadata": {},
   "outputs": [],
   "source": [
    "10. Create a base class called \"BankAccount\" with attributes like \"account_number\" and\n",
    "\"balance.\" Derive two classes, \"SavingsAccount\" and \"CheckingAccount,\" from\n",
    "\"BankAccount.\" Add specific methods like \"calculate_interest\" for the\n",
    "\"SavingsAccount\" class and \"deduct_fees\" for the \"CheckingAccount\" class."
   ]
  },
  {
   "cell_type": "code",
   "execution_count": 36,
   "id": "12051837",
   "metadata": {},
   "outputs": [],
   "source": [
    "class BankAccount:\n",
    "    def __init__(self,account_number,balance):\n",
    "        self.account_number=account_number\n",
    "        self.balance=balance\n",
    "class SavingsAccount(BankAccount):\n",
    "    def __init__(self,account_number,balance):\n",
    "        super().__init__(account_number,balance)\n",
    "    def calculate_interest(self,Time,Rate_of_interest):\n",
    "        self.Time=Time #in terms of year\n",
    "        self.Rate_of_interest=Rate_of_interest\n",
    "        simple_interest=self.balance* self.Time * self.Rate_of_interest\n",
    "        print(f\"Interest is:{simple_interest}\")\n",
    "class CheckingAccount(BankAccount):\n",
    "    def __init__(self,account_number,balance):\n",
    "        super().__init__(account_number,balance)\n",
    "    def deduct_fees(self,fees):\n",
    "        self.balance-=fees\n",
    "        print(f\"Balance is: {self.balance}\")\n",
    "        \n",
    "sa=SavingsAccount(\"Ach282902\",20000)"
   ]
  },
  {
   "cell_type": "code",
   "execution_count": 37,
   "id": "c666de1c",
   "metadata": {},
   "outputs": [
    {
     "name": "stdout",
     "output_type": "stream",
     "text": [
      "Interest is:800000\n"
     ]
    }
   ],
   "source": [
    "sa.calculate_interest(5,8)"
   ]
  },
  {
   "cell_type": "code",
   "execution_count": 38,
   "id": "db102fe7",
   "metadata": {},
   "outputs": [],
   "source": [
    "ca=CheckingAccount(\"asd123434\",30000)"
   ]
  },
  {
   "cell_type": "code",
   "execution_count": 39,
   "id": "76d129f4",
   "metadata": {},
   "outputs": [
    {
     "name": "stdout",
     "output_type": "stream",
     "text": [
      "Balance is: 29000\n"
     ]
    }
   ],
   "source": [
    "ca.deduct_fees(1000)"
   ]
  },
  {
   "cell_type": "code",
   "execution_count": null,
   "id": "a6d2b57f",
   "metadata": {},
   "outputs": [],
   "source": []
  }
 ],
 "metadata": {
  "kernelspec": {
   "display_name": "Python 3 (ipykernel)",
   "language": "python",
   "name": "python3"
  },
  "language_info": {
   "codemirror_mode": {
    "name": "ipython",
    "version": 3
   },
   "file_extension": ".py",
   "mimetype": "text/x-python",
   "name": "python",
   "nbconvert_exporter": "python",
   "pygments_lexer": "ipython3",
   "version": "3.9.13"
  }
 },
 "nbformat": 4,
 "nbformat_minor": 5
}
